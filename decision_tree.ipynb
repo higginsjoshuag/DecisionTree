{
 "cells": [
  {
   "cell_type": "markdown",
   "metadata": {},
   "source": [
    "# Decision Tree Lab"
   ]
  },
  {
   "cell_type": "code",
   "execution_count": 1,
   "metadata": {},
   "outputs": [],
   "source": [
    "from sklearn.base import BaseEstimator, ClassifierMixin\n",
    "from sklearn.tree import DecisionTreeClassifier\n",
    "from sklearn.utils import shuffle\n",
    "from sklearn.model_selection import train_test_split\n",
    "from scipy.io import arff\n",
    "from sklearn import tree\n",
    "import numpy as np\n",
    "import math\n",
    "import matplotlib.pyplot as plt\n",
    "import pandas as pd\n",
    "import os"
   ]
  },
  {
   "cell_type": "code",
   "execution_count": 4,
   "metadata": {},
   "outputs": [],
   "source": [
    "class node:\n",
    "    def __init__(self, x, y, mom=None, type='split', info=0, split_index=None, predicted_out_class=-1):\n",
    "        self.x = x\n",
    "        self.y = y\n",
    "        self.kids = []\n",
    "        self.mom = mom\n",
    "        self.type = type\n",
    "        self.info = info\n",
    "        self.split_index = split_index\n",
    "        self.predicted_out_class = predicted_out_class"
   ]
  },
  {
   "cell_type": "code",
   "execution_count": 2,
   "metadata": {},
   "outputs": [],
   "source": [
    "class DTClassifier(BaseEstimator,ClassifierMixin):\n",
    "\n",
    "    def __init__(self, feat_maps=None, col_map=None, counts=None):\n",
    "        self.feat_maps=feat_maps\n",
    "        self.col_map=col_map\n",
    "        self.counts = counts\n",
    "        self.info_gains = []\n",
    "\n",
    "    def fit(self, x, y):\n",
    "        self.root = node(x, y, info=self.get_info(y))\n",
    "        self.split(self.root)\n",
    "\n",
    "    def split(self, n):\n",
    "        self.make_kids(n, self.best_split(n))\n",
    "        for kid in n.kids:\n",
    "            if kid.type != 'leaf':\n",
    "                self.split(kid)\n",
    "        return\n",
    "                \n",
    "    def get_info(self, y):\n",
    "        y_counts = np.unique(y, return_counts=True)[1]\n",
    "        info = 0\n",
    "        for i in range(len(y_counts)):\n",
    "            p = y_counts[i] / len(y)\n",
    "            if p != 0:\n",
    "                info += (-p * math.log2(p))\n",
    "        return info\n",
    "        \n",
    "    def calc_row(self, x, y):\n",
    "        row_info = 0\n",
    "        x_values, x_counts = np.unique(x, return_counts=True)\n",
    "        xy = pd.DataFrame(np.column_stack((x,y)))\n",
    "        for i in range(len(x_counts)):\n",
    "            new_y = np.array(xy[xy.iloc[:,0]==x_values[i]].iloc[:,1])\n",
    "            coef = x_counts[i] / sum(x_counts)\n",
    "            row_info += coef * self.get_info(new_y)\n",
    "        return row_info\n",
    "\n",
    "    def make_kids(self, n, split):\n",
    "        n.split_index = split\n",
    "        feature_column = n.x[:,split]\n",
    "        unique_feature_values = np.unique(feature_column)\n",
    "        for i in range(len(unique_feature_values)):\n",
    "            x, y = self.split_data(n.x, n.y, split, unique_feature_values[i])\n",
    "            kid = node(x, y, info=self.get_info(y), mom=n)\n",
    "            n.kids.append(kid)\n",
    "            y_vals = np.unique(y)\n",
    "            if len(y_vals) == 1:\n",
    "                kid.type='leaf'\n",
    "                kid.predicted_out_class = y_vals[0]\n",
    "\n",
    "    def split_data(self, x, y, split, val):\n",
    "        print('Splitting on', split)\n",
    "        x_values = np.unique(x, return_counts=True)[0]\n",
    "        xy = pd.DataFrame(np.column_stack((x,y)))\n",
    "        df = xy[xy.iloc[:,split]==val]\n",
    "        return np.array(df.iloc[:,0:-1]), np.array(df.iloc[:,-1])\n",
    "\n",
    "    def best_split(self, n):\n",
    "        infos = []\n",
    "        for i in range(n.x.shape[1]):\n",
    "            infos.append(n.info-self.calc_row(n.x[:,i],n.y))\n",
    "        self.info_gains.append(infos[np.argmax(infos)])\n",
    "        return np.argmax(infos)\n",
    "\n",
    "    def predict(self, x):\n",
    "        predictions = []\n",
    "        for i in range(x.shape[0]):\n",
    "            row = x[i,:]\n",
    "            currNode = self.root\n",
    "            while currNode.type != 'leaf':\n",
    "                split_index = currNode.split_index\n",
    "                split_value = row[split_index]\n",
    "                if split_value >= len(currNode.kids):\n",
    "                    predictions.append(1)\n",
    "                    break\n",
    "                currNode = currNode.kids[split_value]\n",
    "                if currNode.type == 'leaf':\n",
    "                    predictions.append(currNode.predicted_out_class)\n",
    "        return predictions\n",
    "\n",
    "    def score(self, x, y):\n",
    "        predictions = self.predict(x)\n",
    "        return sum(predictions == y) / len(y)"
   ]
  },
  {
   "cell_type": "code",
   "execution_count": 3,
   "metadata": {},
   "outputs": [],
   "source": [
    "def getCounts(df):\n",
    "    counts = []\n",
    "    for i in range(len(df.columns)):\n",
    "        counts.append(len(df[df.columns[i]].value_counts()))\n",
    "    return counts\n",
    "\n",
    "def encode_feature(series):\n",
    "    new_series = series.copy()\n",
    "    targets = series.unique()\n",
    "    map_to_int = {name: n for n, name in enumerate(targets)}\n",
    "    new_series = series.replace(map_to_int)\n",
    "    map = {n: name for n, name in enumerate(targets)}\n",
    "    return new_series, map\n",
    "\n",
    "def encode_df(df):\n",
    "    new_df = df.copy()\n",
    "    maps = {}\n",
    "    for i in list(df.columns):\n",
    "        new_df[i], map = encode_feature(df[i])\n",
    "        maps[i] = map\n",
    "    col_map = {}\n",
    "    for i in enumerate(df.columns):\n",
    "        col_map[i[0]] = i[1]\n",
    "    return new_df, maps, col_map"
   ]
  },
  {
   "cell_type": "markdown",
   "metadata": {},
   "source": [
    "## Debug\n",
    "\n",
    "Decision Tree:\n",
    "<pre>\n",
    "tear_prod_rate = normal:\n",
    "    astigmatism = no:\n",
    "        age = pre_presbyopic:\n",
    "            prediction: soft\n",
    "        age = presbyopic:\n",
    "            spectacle_prescrip = hypermetrope:\n",
    "                prediction: soft\n",
    "            spectacle_prescrip = myope:\n",
    "                prediction: none\n",
    "        age = young:\n",
    "            prediction: soft\n",
    "    astigmatism = yes:\n",
    "        spectacle_prescrip = hypermetrope:\n",
    "            age = pre_presbyopic:\n",
    "                prediction: none\n",
    "            age = presbyopic:\n",
    "                prediction: none\n",
    "            age = young:\n",
    "                prediction: hard\n",
    "        spectacle_prescrip = myope:\n",
    "            prediction: hard\n",
    "tear_prod_rate = reduced:\n",
    "    prediction: none\n",
    "</pre>"
   ]
  },
  {
   "cell_type": "code",
   "execution_count": 5,
   "metadata": {},
   "outputs": [
    {
     "name": "stdout",
     "output_type": "stream",
     "text": [
      "Splitting on 3\n",
      "Splitting on 3\n",
      "Splitting on 2\n",
      "Splitting on 2\n",
      "Splitting on 0\n",
      "Splitting on 0\n",
      "Splitting on 0\n",
      "Splitting on 1\n",
      "Splitting on 1\n",
      "Splitting on 1\n",
      "Splitting on 1\n",
      "Splitting on 0\n",
      "Splitting on 0\n",
      "Splitting on 0\n",
      "Score: 0.3333333333333333\n",
      "Info Gains: [0.5487949406953985, 0.7704260414863778, 0.3166890883150208, 1.0, 0.4591479170272448, 0.9182958340544896]\n"
     ]
    }
   ],
   "source": [
    "# Load debug training data\n",
    "debug_train = pd.DataFrame(arff.loadarff('datasets/lenses.arff')[0])\n",
    "debug_train = debug_train.apply(lambda x: x.str.decode('utf8'))\n",
    "debug_train_encoded, debug_train_maps, debug_train_col_map = encode_df(debug_train)\n",
    "debug_train_x = np.array(debug_train_encoded.iloc[:, 0:-1])\n",
    "debug_train_y = np.array(debug_train_encoded.iloc[:, -1])\n",
    "\n",
    "# Train Decision Tree\n",
    "debug_DT = DTClassifier(debug_train_maps, debug_train_col_map, counts = getCounts(debug_train_encoded.iloc[:, 0:-1]))\n",
    "debug_DT.fit(debug_train_x, debug_train_y)\n",
    "\n",
    "# Load debug test data\n",
    "debug_test = pd.DataFrame(arff.loadarff('datasets/lenses_test.arff')[0])\n",
    "debug_test = debug_test.apply(lambda x: x.str.decode('utf8'))\n",
    "debug_test_encoded, debug_test_maps, debug_test_col_map = encode_df(debug_test)\n",
    "debug_test_x = np.array(debug_test_encoded.iloc[:, 0:-1])\n",
    "debug_test_y = np.array(debug_test_encoded.iloc[:, -1])\n",
    "\n",
    "# Predict and compute model accuracy\n",
    "print(\"Score:\", debug_DT.score(debug_test_x, debug_test_y))\n",
    "\n",
    "# Print the information gain of every split you make.\n",
    "print('Info Gains:',debug_DT.info_gains)"
   ]
  },
  {
   "cell_type": "code",
   "execution_count": 6,
   "metadata": {},
   "outputs": [
    {
     "name": "stdout",
     "output_type": "stream",
     "text": [
      "Splitting on 0\n",
      "Splitting on 0\n",
      "Splitting on 2\n",
      "Splitting on 2\n",
      "Splitting on 1\n",
      "Splitting on 1\n",
      "Splitting on 1\n",
      "Splitting on 2\n",
      "Splitting on 2\n",
      "Info Gains: [0.5466316153937778, 1.0, 0.4199730940219749, 0.9182958340544896]\n"
     ]
    }
   ],
   "source": [
    "pizza = pd.DataFrame(data=np.array([['Y','Thin','N','Great'],\n",
    "                                    ['N','Deep','N','Bad'],\n",
    "                                    ['N','Stuffed','Y','Good'],\n",
    "                                    ['Y','Stuffed','Y','Great'],\n",
    "                                    ['Y','Deep','N','Good'],\n",
    "                                    ['Y','Deep','Y','Great'],\n",
    "                                    ['N','Thin','Y','Good'],\n",
    "                                    ['Y','Deep','N','Good'],\n",
    "                                    ['N','Thin','N','Bad']]),\n",
    "                                    columns=['Meat','Crust','Veg','Quality'])\n",
    "\n",
    "pizza_encoded, pizza_maps, pizza_col_map = encode_df(pizza)\n",
    "# pizza_x = np.array(pizza_encoded.iloc[:,0:-1])\n",
    "# pizza_y = np.array(pizza_encoded.iloc[:,-1])\n",
    "\n",
    "pizza_x = np.array([[1,2,0],[0,0,0],[0,1,1],[1,1,1],[1,0,0],[1,0,1],[0,2,1],[1,0,0],[0,2,0]])\n",
    "pizza_y = np.array([2,0,1,2,1,2,1,1,0])\n",
    "\n",
    "pizza_df = pd.DataFrame(np.column_stack((pizza_x,pizza_y)), columns=['Meat','Crust','Veg','Quality'])\n",
    "\n",
    "pizza_DT = DTClassifier(counts=[2,3,2], col_map=pizza_col_map)\n",
    "pizza_DT.fit(pizza_x, pizza_y)\n",
    "\n",
    "print('Info Gains:',pizza_DT.info_gains)"
   ]
  },
  {
   "cell_type": "markdown",
   "metadata": {},
   "source": [
    "## Zoo Dataset"
   ]
  },
  {
   "cell_type": "code",
   "execution_count": 223,
   "metadata": {},
   "outputs": [
    {
     "name": "stdout",
     "output_type": "stream",
     "text": [
      "Score: 0.145\n",
      "Info Gains: [1.3630469031539394, 0.6892019851173656, 0.8631205685666308, 0.7219280948873623, 0.8865408928220899, 0.9852281360342515, 0.6962122601251458, 0.8256265261578954, 0.7219280948873623]\n"
     ]
    }
   ],
   "source": [
    "# Load zoo training data\n",
    "zoo_train = pd.DataFrame(arff.loadarff('datasets/zoo.arff')[0])\n",
    "zoo_train = zoo_train.apply(lambda x: x.str.decode('utf8'))\n",
    "zoo_train_encoded, zoo_train_maps, zoo_train_col_map = encode_df(zoo_train)\n",
    "zoo_train_x = np.array(zoo_train_encoded.iloc[:, 0:-1])\n",
    "zoo_train_y = np.array(zoo_train_encoded.iloc[:, -1])\n",
    "\n",
    "# Train Decision Tree\n",
    "zoo_DT = DTClassifier(zoo_train_maps, zoo_train_col_map, counts = getCounts(zoo_train_encoded.iloc[:, 0:-1]))\n",
    "zoo_DT.fit(zoo_train_x, zoo_train_y)\n",
    "\n",
    "# Load zoo test data\n",
    "zoo_test = pd.DataFrame(arff.loadarff('datasets/zoo_test.arff')[0])\n",
    "zoo_test = zoo_test.apply(lambda x: x.str.decode('utf8'))\n",
    "zoo_test_encoded, zoo_test_maps, zoo_test_col_map = encode_df(zoo_test)\n",
    "zoo_test_x = np.array(zoo_test_encoded.iloc[:, 0:-1])\n",
    "zoo_test_y = np.array(zoo_test_encoded.iloc[:, -1])\n",
    "\n",
    "# Predict and compute model accuracy\n",
    "print(\"Score:\", zoo_DT.score(zoo_test_x, zoo_test_y))\n",
    "\n",
    "# Print the information gain of every split you make.\n",
    "print('Info Gains:',zoo_DT.info_gains)"
   ]
  },
  {
   "cell_type": "markdown",
   "metadata": {},
   "source": [
    "## 10-fold Cross Validation"
   ]
  },
  {
   "cell_type": "code",
   "execution_count": 224,
   "metadata": {},
   "outputs": [],
   "source": [
    "# Write a function that implements 10-fold cross validation\n",
    "def fit_num_fold(x, y, num, counts):\n",
    "    x, y = shuffle(x, y)\n",
    "    train_scores = []\n",
    "    test_scores = []\n",
    "    xy = np.column_stack((x,y))\n",
    "    test_row_size = math.floor(len(x) / num)\n",
    "    xy_extra, xy_data = cutoff_extra(xy, num)\n",
    "    for i in range(num):\n",
    "        i1 = (i * test_row_size)\n",
    "        i2 = (i1 + test_row_size)\n",
    "        train1, test, train2 = np.split(ary=xy_data, indices_or_sections=[i1, i2], axis=0)\n",
    "        train = np.vstack((xy_extra, train1, train2))\n",
    "        train_x, train_y = train[:,0:-1], train[:,-1]\n",
    "        test_x, test_y = test[:,0:-1], test[:,-1]\n",
    "        model = DTClassifier(counts=counts)\n",
    "        model.fit(train_x, train_y)\n",
    "        train_scores.append(model.score(train_x, train_y))\n",
    "        test_scores.append(model.score(test_x, test_y))\n",
    "    return train_scores, test_scores\n",
    "\n",
    "def cutoff_extra(xy, n):\n",
    "    cutoff = len(xy) % n\n",
    "    extra = xy[len(xy)-cutoff:]\n",
    "    data = xy[0:len(xy)-cutoff]\n",
    "    return extra, data"
   ]
  },
  {
   "cell_type": "markdown",
   "metadata": {},
   "source": [
    "##  Cars Dataset"
   ]
  },
  {
   "cell_type": "code",
   "execution_count": 228,
   "metadata": {},
   "outputs": [
    {
     "name": "stdout",
     "output_type": "stream",
     "text": [
      "Training Scores: [0.9974293059125964, 0.9967866323907455, 0.9967866323907455, 0.9967866323907455, 0.9955012853470437, 0.9980719794344473, 0.9974293059125964, 0.9980719794344473, 0.993573264781491, 0.9942159383033419] \n",
      "\n",
      "Test Scores: [0.9418604651162791, 0.9593023255813954, 0.9476744186046512, 0.9651162790697675, 0.9651162790697675, 0.9709302325581395, 0.9593023255813954, 0.936046511627907, 0.9651162790697675, 0.9767441860465116] \n",
      "\n",
      "Average Test Score: 0.9587209302325583\n"
     ]
    }
   ],
   "source": [
    "# Use 10-fold CV on Cars Dataset\n",
    "cars = pd.DataFrame(arff.loadarff('datasets/cars.arff')[0])\n",
    "cars = cars.apply(lambda x: x.str.decode('utf8'))\n",
    "\n",
    "cars_encoded= encode_df(cars)[0]\n",
    "\n",
    "cars_x = np.array(cars_encoded.iloc[:, 0:-1])\n",
    "cars_y = np.array(cars_encoded.iloc[:, -1])\n",
    "\n",
    "car_counts = getCounts(cars_encoded.iloc[:,0:-1])\n",
    "train_scores, test_scores = fit_num_fold(cars_x, cars_y, 10, car_counts)\n",
    "\n",
    "# Report Training and Test Classification Accuracies\n",
    "print('Training Scores:', train_scores,'\\n')\n",
    "print('Test Scores:', test_scores,'\\n')\n",
    "\n",
    "# Report Average Test Accuracy\n",
    "print(\"Average Test Score:\", np.mean(test_scores))"
   ]
  },
  {
   "cell_type": "markdown",
   "metadata": {},
   "source": [
    "## Voting Dataset"
   ]
  },
  {
   "cell_type": "code",
   "execution_count": 227,
   "metadata": {},
   "outputs": [
    {
     "name": "stdout",
     "output_type": "stream",
     "text": [
      "Training Scores: [0.9897959183673469, 0.9923469387755102, 0.9948979591836735, 0.9744897959183674, 0.9974489795918368, 0.9948979591836735, 0.9948979591836735, 0.9872448979591837, 0.9948979591836735, 0.9948979591836735] \n",
      "\n",
      "Test Scores: [0.9534883720930233, 0.9767441860465116, 0.9767441860465116, 0.9069767441860465, 0.9534883720930233, 0.9767441860465116, 0.8837209302325582, 0.9302325581395349, 0.9302325581395349, 0.9534883720930233] \n",
      "\n",
      "Average Test Score: 0.9441860465116279\n"
     ]
    }
   ],
   "source": [
    "# Use 10-fold CV on Voting Dataset\n",
    "vote = pd.DataFrame(arff.loadarff('datasets/voting_with_missing.arff')[0])\n",
    "vote = vote.apply(lambda x: x.str.decode('utf8'))\n",
    "\n",
    "vote_encoded= encode_df(vote)[0]\n",
    "\n",
    "vote_x = np.array(vote_encoded.iloc[:, 0:-1])\n",
    "vote_y = np.array(vote_encoded.iloc[:, -1])\n",
    "vote_counts = getCounts(vote_encoded.iloc[:,0:-1])\n",
    "train_scores, test_scores = fit_num_fold(vote_x, vote_y, 10,vote_counts)\n",
    "\n",
    "# Report Training and Test Classification Accuracies\n",
    "print('Training Scores:', train_scores,'\\n')\n",
    "print('Test Scores:', test_scores,'\\n')\n",
    "\n",
    "# Report Average Test Accuracy\n",
    "print(\"Average Test Score:\", np.mean(test_scores))"
   ]
  },
  {
   "cell_type": "markdown",
   "metadata": {},
   "source": [
    "## Results"
   ]
  },
  {
   "cell_type": "markdown",
   "metadata": {},
   "source": [
    "Both the Car and the Voting datasets were able to consistently achieve roughly 95% on the different 10-fold tests run. I observed that both the car and the voting datasets were not always able to achieve 100% on the training scores, but oftentimes did. One reason for this:\n",
    "\n",
    "\"If you reach some node without any more features to split on and yet the data is not yet pure then the node should be labelled as whatever the majority class is. Say an input is from the minority class, then it’ll be classified incorrectly even though it’s from the training set\" -- Brayden Smith\n",
    "\n",
    "So in my own words... it's built with a majority class and thus a minority class can be misclassified, particularly if the data is noisy."
   ]
  },
  {
   "cell_type": "markdown",
   "metadata": {},
   "source": [
    "As I mentioned above about the cars dataset, the voiting dataset had some features that seemed to be most significant and had higher information gains than other features. For the voting dataset, the 'physician-fee-freeze' feature (which included \"?\" variables, by the way), seemed to play a signicant role in information gains. Overall, the DT that was created was very deep (at least comparitively), but it seemed to generalize well on the test data that it was presented."
   ]
  },
  {
   "cell_type": "markdown",
   "metadata": {},
   "source": [
    "I created a function that encodes the different class attributes. For instance, for the 'crust' feature in the pizza dataset, it mapped all the different values (i.e., thin, deep, stuffed) to integer values (0, 1, 2). Thus, for the voting dataset, where there were \"?\" values, it simply mapped those values as another integer. In short, I treated each of the \"?\" values as another class – an 'unknown' class."
   ]
  },
  {
   "cell_type": "markdown",
   "metadata": {},
   "source": [
    "## Scikit-Learn's Decision Tree"
   ]
  },
  {
   "cell_type": "code",
   "execution_count": 260,
   "metadata": {},
   "outputs": [
    {
     "name": "stdout",
     "output_type": "stream",
     "text": [
      "voteDT Score: 0.9174311926605505\n",
      "voteDT1 Score: 0.9174311926605505\n",
      "voteDT2 Score: 0.963302752293578\n"
     ]
    }
   ],
   "source": [
    "# Use SK Learn's Decision Tree to learn the voting dataset\n",
    "vote_x_train, vote_x_test, vote_y_train, vote_y_test = train_test_split(vote_x, vote_y)\n",
    "\n",
    "voteDT = DecisionTreeClassifier(criterion='gini', splitter='best', max_depth=None,\n",
    "                                        min_samples_split=2, min_samples_leaf=1, \n",
    "                                        min_weight_fraction_leaf=0.0, max_features=None,\n",
    "                                        random_state=None, max_leaf_nodes=None,\n",
    "                                        min_impurity_decrease=0.0, class_weight=None,\n",
    "                                        ccp_alpha=0.0)\n",
    "voteDT.fit(vote_x_train, vote_y_train)\n",
    "\n",
    "# Explore different parameters\n",
    "voteDT1 = DecisionTreeClassifier(criterion='entropy', splitter='best', max_depth=None,\n",
    "                                        min_samples_split=2, min_samples_leaf=1, \n",
    "                                        min_weight_fraction_leaf=0.0, max_features=None,\n",
    "                                        random_state=None, max_leaf_nodes=None,\n",
    "                                        min_impurity_decrease=0.0, class_weight=None,\n",
    "                                        ccp_alpha=0.0)\n",
    "voteDT1.fit(vote_x_train, vote_y_train)\n",
    "\n",
    "voteDT2 = DecisionTreeClassifier(criterion='gini', splitter='random', max_depth=3,\n",
    "                                        min_samples_split=2, min_samples_leaf=1, \n",
    "                                        min_weight_fraction_leaf=0.0, max_features=None,\n",
    "                                        random_state=5, max_leaf_nodes=None,\n",
    "                                        min_impurity_decrease=0.0, class_weight='balanced',\n",
    "                                        ccp_alpha=0.0)\n",
    "voteDT2.fit(vote_x_train, vote_y_train)\n",
    "\n",
    "\n",
    "# Report results\n",
    "print('voteDT Score:', voteDT.score(vote_x_test, vote_y_test))\n",
    "print('voteDT1 Score:', voteDT1.score(vote_x_test, vote_y_test))\n",
    "print('voteDT2 Score:', voteDT2.score(vote_x_test, vote_y_test))"
   ]
  },
  {
   "cell_type": "markdown",
   "metadata": {},
   "source": [
    "Discuss results & compare to your method's results"
   ]
  },
  {
   "cell_type": "code",
   "execution_count": 318,
   "metadata": {},
   "outputs": [
    {
     "name": "stdout",
     "output_type": "stream",
     "text": [
      "ScaleDT Score: 0.802547770700637\n",
      "ScaleDT1 Score: 0.802547770700637\n",
      "ScaleDT2 Score: 0.7515923566878981\n"
     ]
    }
   ],
   "source": [
    "# Use SciKit Learn's Decision Tree on a new dataset\n",
    "scale = pd.read_csv(\"datasets/balance-scale.csv\")\n",
    "scale_encoded = encode_df(scale)[0]\n",
    "scale_x = np.array(scale_encoded.iloc[:, 0:-1])\n",
    "scale_y = np.array(scale_encoded.iloc[:, -1])\n",
    "scale_x_train, scale_x_test, scale_y_train, scale_y_test = train_test_split(scale_x, scale_y)\n",
    "\n",
    "scaleDT = DecisionTreeClassifier()\n",
    "scaleDT.fit(scale_x_train, scale_y_train)\n",
    "print(\"ScaleDT Score:\",scaleDT.score(scale_x_test, scale_y_test))\n",
    "\n",
    "# Experiment with different hyper-parameters\n",
    "scaleDT1 = DecisionTreeClassifier(criterion='entropy', splitter='random')\n",
    "scaleDT1.fit(scale_x_train, scale_y_train)\n",
    "print(\"ScaleDT1 Score:\",scaleDT1.score(scale_x_test, scale_y_test))\n",
    "\n",
    "scaleDT2 = DecisionTreeClassifier(criterion='entropy', splitter='random', min_samples_split=3)\n",
    "scaleDT2.fit(scale_x_train, scale_y_train)\n",
    "print(\"ScaleDT2 Score:\",scaleDT2.score(scale_x_test, scale_y_test))"
   ]
  },
  {
   "cell_type": "code",
   "execution_count": 324,
   "metadata": {},
   "outputs": [
    {
     "data": {
      "image/png": "[encoded data removed]",
      "text/plain": [
       "<Figure size 1080x720 with 1 Axes>"
      ]
     },
     "metadata": {
      "needs_background": "light"
     },
     "output_type": "display_data"
    }
   ],
   "source": [
    "# Include decision tree visualization here\n",
    "fig = plt.figure(figsize=(15,10))\n",
    "_ = tree.plot_tree(voteDT2)\n",
    "\n",
    "# Discuss what the model has learned\n",
    "\n",
    "# The model definitely learned because it was able to achieve 80% accuracy on the test set. The first split consistently,\n",
    "# regardless of hyperparameters was on the third index which is the weight from the right side of the scale. The model \n",
    "# wasn't able to reach over 82% accuracy regardless of the parameter tweaking, so maybe the data is just too noisy or there\n",
    "# isn't enough data."
   ]
  }
 ],
 "metadata": {
  "interpreter": {
   "hash": "aee8b7b246df8f9039afb4144a1f6fd8d2ca17a180786b69acc140d282b71a49"
  },
  "kernelspec": {
   "display_name": "Python 3.9.7 64-bit",
   "name": "python3"
  },
  "language_info": {
   "codemirror_mode": {
    "name": "ipython",
    "version": 3
   },
   "file_extension": ".py",
   "mimetype": "text/x-python",
   "name": "python",
   "nbconvert_exporter": "python",
   "pygments_lexer": "ipython3",
   "version": "3.9.7"
  }
 },
 "nbformat": 4,
 "nbformat_minor": 4
}
